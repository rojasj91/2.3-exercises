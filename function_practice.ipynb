{
 "cells": [
  {
   "cell_type": "markdown",
   "metadata": {},
   "source": [
    "### Character Input\n",
    "\n",
    "Create a program that asks the user to enter their name and their age. Print out a message addressed to them that tells them the year that they will turn 100 years old."
   ]
  },
  {
   "cell_type": "code",
   "execution_count": 3,
   "metadata": {},
   "outputs": [
    {
     "name": "stdout",
     "output_type": "stream",
     "text": [
      "What is your name?Jeff\n",
      "What is your age?27\n",
      "Jeff you will turn 100 in2092\n"
     ]
    }
   ],
   "source": [
    "#first you will create the program by defining a var#\n",
    "def character_input():\n",
    "    \n",
    "#second define your variable and place the input tag to have the user enter information.\n",
    "    name = input('What is your name?')\n",
    "    age = input('What is your age?')\n",
    "#had to set age an an integer (int)    \n",
    "    year = 2019 + (100 - int(age))\n",
    "    \n",
    "    print(str(name) + ' you will turn 100 in' + str(year) )\n",
    "    \n",
    "character_input()"
   ]
  },
  {
   "cell_type": "markdown",
   "metadata": {},
   "source": [
    "### Odd Or Even\n",
    "\n",
    "Ask the user for a number. Depending on whether the number is even or odd, print out an appropriate message to the user. Hint: how does an even / odd number react differently when divided by 2?"
   ]
  },
  {
   "cell_type": "code",
   "execution_count": 10,
   "metadata": {},
   "outputs": [
    {
     "name": "stdout",
     "output_type": "stream",
     "text": [
      "Give me a number.38\n",
      "Thats an even number\n"
     ]
    }
   ],
   "source": [
    "def odd_even():\n",
    "    number = input('Give me a number.')\n",
    "#had to change number to an (int)    \n",
    "    number = int(number)\n",
    "#This is stating that if the number modules (%) by 2 = 0 then it is an even number everything else is an odd number \n",
    "#0=False, 1=True this statement is saying if False do 'even' if True do 'odd'\n",
    "    if number % 2 == 0:\n",
    "        print('Thats an even number')\n",
    "    else:\n",
    "        print('Thats an odd number')\n",
    "        \n",
    "odd_even()"
   ]
  },
  {
   "cell_type": "markdown",
   "metadata": {},
   "source": [
    "### List Ends\n",
    "\n",
    "Write a program that takes a list of numbers (for example, a = [5, 10, 15, 20, 25]) and makes a new list of only the first and last elements of the given list. For practice, write this code inside a function."
   ]
  },
  {
   "cell_type": "code",
   "execution_count": 13,
   "metadata": {},
   "outputs": [
    {
     "data": {
      "text/plain": [
       "[5, 1005]"
      ]
     },
     "execution_count": 13,
     "metadata": {},
     "output_type": "execute_result"
    }
   ],
   "source": [
    "def list_ends(num_list):\n",
    "    \n",
    "    my_list = []\n",
    "    \n",
    "    first_element = num_list[0]\n",
    "    my_list.append(first_element)\n",
    "    \n",
    "    last_element = num_list[-1]\n",
    "    my_list.append(last_element)\n",
    "    \n",
    "    return my_list\n",
    "    \n",
    "list_ends([5, 10, 15, 20, 25, 1005])"
   ]
  },
  {
   "cell_type": "markdown",
   "metadata": {},
   "source": [
    "### Element Search\n",
    "\n",
    "Write a function that takes an ordered list of numbers (a list where the elements are in order from smallest to largest) and another number. The function decides whether or not the given number is inside the list and returns (then prints) an appropriate boolean."
   ]
  },
  {
   "cell_type": "code",
   "execution_count": 28,
   "metadata": {},
   "outputs": [
    {
     "name": "stdout",
     "output_type": "stream",
     "text": [
      "Is this number in your list?5\n",
      "Yes!\n"
     ]
    }
   ],
   "source": [
    "def element_search():\n",
    "#number input for the user to enter a number, followed by converting the string to an integer (int)  \n",
    "#Create a list a of numbers (my_number) then an if statement to see if number entered is in list\n",
    "    number = input('Is this number in your list?')\n",
    "    number = int(number)\n",
    "    my_number = [5, 10, 15, 20, 25]\n",
    "    \n",
    "    if number in my_number:\n",
    "        print('Yes!')\n",
    "    else:\n",
    "        print('No!')\n",
    "    \n",
    "element_search()    "
   ]
  },
  {
   "cell_type": "markdown",
   "metadata": {},
   "source": [
    "### List Less Than 5\n",
    "\n",
    "Write a program that takes a list of numbers and prints out all the elements of the list that are less than 5."
   ]
  },
  {
   "cell_type": "code",
   "execution_count": 31,
   "metadata": {},
   "outputs": [
    {
     "name": "stdout",
     "output_type": "stream",
     "text": [
      "1\n",
      "3\n",
      "4\n"
     ]
    }
   ],
   "source": [
    "def num_list():\n",
    "    \n",
    "    num_list = [1, 3, 4, 5, 10, 15, 20, 25, 1005]\n",
    "    \n",
    "    for num in num_list:\n",
    "        if num < 5:\n",
    "            print(num)\n",
    "    \n",
    "num_list()"
   ]
  },
  {
   "cell_type": "markdown",
   "metadata": {},
   "source": [
    "### Divisors\n",
    "\n",
    "Create a program that asks the user for a number and then prints out a list of all the divisors of that number."
   ]
  },
  {
   "cell_type": "code",
   "execution_count": 5,
   "metadata": {},
   "outputs": [
    {
     "ename": "NameError",
     "evalue": "name 'number' is not defined",
     "output_type": "error",
     "traceback": [
      "\u001b[0;31m---------------------------------------------------------------------------\u001b[0m",
      "\u001b[0;31mNameError\u001b[0m                                 Traceback (most recent call last)",
      "\u001b[0;32m<ipython-input-5-cf0e478f9fe3>\u001b[0m in \u001b[0;36m<module>\u001b[0;34m\u001b[0m\n\u001b[1;32m     11\u001b[0m \u001b[0;34m\u001b[0m\u001b[0m\n\u001b[1;32m     12\u001b[0m \u001b[0;34m\u001b[0m\u001b[0m\n\u001b[0;32m---> 13\u001b[0;31m \u001b[0mnum_list\u001b[0m\u001b[0;34m(\u001b[0m\u001b[0mnumber\u001b[0m\u001b[0;34m)\u001b[0m\u001b[0;34m\u001b[0m\u001b[0;34m\u001b[0m\u001b[0m\n\u001b[0m",
      "\u001b[0;31mNameError\u001b[0m: name 'number' is not defined"
     ]
    }
   ],
   "source": [
    "def num_list(x):\n",
    "    \n",
    "    number = input({{'Enter number'}})\n",
    "    number = int(number)\n",
    "    \n",
    "    print('The divisors of', x, 'are:')\n",
    "    if i in range(1, x + 1):\n",
    "        if x % i == 0:\n",
    "            print(i)\n",
    "    \n",
    "    \n",
    "    \n",
    "num_list(number)    "
   ]
  },
  {
   "cell_type": "markdown",
   "metadata": {},
   "source": [
    "### List Remove Duplicates\n",
    "\n",
    "Write a program (function!) that takes a list and returns a new list that contains all the elements of the first list minus all the duplicates."
   ]
  },
  {
   "cell_type": "code",
   "execution_count": null,
   "metadata": {},
   "outputs": [],
   "source": []
  },
  {
   "cell_type": "markdown",
   "metadata": {},
   "source": [
    "### Fibonnaci\n",
    "\n",
    "Write a program that asks the user how many Fibonnaci numbers to generate and then generates them. (The Fibonnaci seqence is a sequence of numbers where the next number in the sequence is the sum of the previous two numbers in the sequence. The sequence looks like this: 1, 1, 2, 3, 5, 8, 13, …)"
   ]
  },
  {
   "cell_type": "code",
   "execution_count": null,
   "metadata": {},
   "outputs": [],
   "source": []
  }
 ],
 "metadata": {
  "kernelspec": {
   "display_name": "Python 3",
   "language": "python",
   "name": "python3"
  },
  "language_info": {
   "codemirror_mode": {
    "name": "ipython",
    "version": 3
   },
   "file_extension": ".py",
   "mimetype": "text/x-python",
   "name": "python",
   "nbconvert_exporter": "python",
   "pygments_lexer": "ipython3",
   "version": "3.7.2"
  }
 },
 "nbformat": 4,
 "nbformat_minor": 2
}
