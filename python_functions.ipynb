{
 "cells": [
  {
   "cell_type": "markdown",
   "metadata": {},
   "source": [
    "Define a function ```max_number()``` that takes two numbers as arguments and returns the largest of them. Use the if-then-else construct available in Python."
   ]
  },
  {
   "cell_type": "code",
   "execution_count": 7,
   "metadata": {},
   "outputs": [
    {
     "data": {
      "text/plain": [
       "10"
      ]
     },
     "execution_count": 7,
     "metadata": {},
     "output_type": "execute_result"
    }
   ],
   "source": [
    "def max_number(x,y):\n",
    "    if x > y:\n",
    "        return x\n",
    "    else:\n",
    "        return y\n",
    "    \n",
    "max_number(8,10)       "
   ]
  },
  {
   "cell_type": "markdown",
   "metadata": {},
   "source": [
    "Define a function ```max_of_three()``` that takes three numbers as arguments and returns the largest of them."
   ]
  },
  {
   "cell_type": "code",
   "execution_count": 28,
   "metadata": {},
   "outputs": [
    {
     "data": {
      "text/plain": [
       "1000"
      ]
     },
     "execution_count": 28,
     "metadata": {},
     "output_type": "execute_result"
    }
   ],
   "source": [
    "def max_of_three(x,y,z):\n",
    "    \n",
    "    if x > y:\n",
    "        return x\n",
    "    elif y > z:\n",
    "        return y\n",
    "    else:\n",
    "        return z\n",
    "    \n",
    "max_of_three(100,1000,1) "
   ]
  },
  {
   "cell_type": "markdown",
   "metadata": {},
   "source": [
    "Define a function ```is_vowel()``` that takes a character (i.e. a string of length 1). Return true if it is a vowel, false otherwise."
   ]
  },
  {
   "cell_type": "code",
   "execution_count": 26,
   "metadata": {},
   "outputs": [
    {
     "data": {
      "text/plain": [
       "False"
      ]
     },
     "execution_count": 26,
     "metadata": {},
     "output_type": "execute_result"
    }
   ],
   "source": [
    "def is_vowel(letter):\n",
    "    \n",
    "    vowel = (['a', 'e', 'i', 'o', 'u', 'A', 'E', 'I', 'O', 'U'])\n",
    "#if statement asking if 'letter' is in the vowel list.  takes 'h' and substitutes it with \"letter\".   \n",
    "    if letter in vowel:\n",
    "        return True\n",
    "    else:\n",
    "        return False\n",
    "#looping 'h' with letter    \n",
    "is_vowel('h')"
   ]
  },
  {
   "cell_type": "markdown",
   "metadata": {},
   "source": [
    "Define a function ```translate()``` that will translate text into \"rövarspråket\". That is, double every consonant and place an occurrence of \"o\" in between. For example, ```translate(\"this is fun\")``` should return the string ```\"tothohisos isos fofunon\"```."
   ]
  },
  {
   "cell_type": "code",
   "execution_count": 34,
   "metadata": {},
   "outputs": [
    {
     "data": {
      "text/plain": [
       "'tothohisos isos fofunon'"
      ]
     },
     "execution_count": 34,
     "metadata": {},
     "output_type": "execute_result"
    }
   ],
   "source": [
    "def translate(text):\n",
    "#result is returning an empty string    \n",
    "    result = ''\n",
    "#for character in text if character is part of 'bcdfghjklmnpqrstvwxyz' then return the empty string + character + 'o'\n",
    "# + character (ex: 't' will return 't' + 'o' + 't')\n",
    "    for char in text:\n",
    "        if char in 'bcdfghjklmnpqrstvwxyz':\n",
    "            result = result + char + 'o' + char \n",
    "#if letter is not in 'bcdfghjklmnpqrstvwxyz' then return empty string + the character (ex: 'i' will return just 'i')          \n",
    "        else:\n",
    "            result = result + char\n",
    "    return result\n",
    "\n",
    "translate(\"this is fun\")"
   ]
  },
  {
   "cell_type": "markdown",
   "metadata": {},
   "source": [
    "Define a function ```sum()``` and a function ```multiply()```. Functions should sum and multiply (respectively) all numbers in an list of numbers. For example, ```sum([1,2,3,4])``` should return ```10```, and ```multiply([1,2,3,4])``` should return ```24```."
   ]
  },
  {
   "cell_type": "code",
   "execution_count": 37,
   "metadata": {},
   "outputs": [
    {
     "name": "stdout",
     "output_type": "stream",
     "text": [
      "20\n",
      "384\n"
     ]
    }
   ],
   "source": [
    "def sum(numbers):\n",
    "#made the total to 0 so that when I run 'total += num' the total will begin at 0 then add the argument\n",
    "    total = 0\n",
    "    for num in numbers:\n",
    "        total += num\n",
    "    print(total)\n",
    "    \n",
    "sum([2, 4, 6, 8])\n",
    "\n",
    "#set the total to 1 so that when I run 'total * =' the 1 multiplies by the first num in the argument and remains at 2.\n",
    "def multiply(int):\n",
    "    total = 1\n",
    "    for num in int:\n",
    "        total *= num\n",
    "    print(total)\n",
    "    \n",
    "multiply([2, 4, 6, 8])"
   ]
  },
  {
   "cell_type": "markdown",
   "metadata": {},
   "source": [
    "Define a function ```reverse()``` that computes the reversal of a string. For example, ```reverse(\"jag testar\")``` should return the string ```\"ratset gaj\"```."
   ]
  },
  {
   "cell_type": "code",
   "execution_count": null,
   "metadata": {},
   "outputs": [],
   "source": [
    "def reverse():\n",
    "    "
   ]
  },
  {
   "cell_type": "markdown",
   "metadata": {},
   "source": [
    "Define a function ```find_longest_word()``` that takes a list of words and returns the length of the longest one."
   ]
  },
  {
   "cell_type": "code",
   "execution_count": 35,
   "metadata": {},
   "outputs": [
    {
     "data": {
      "text/plain": [
       "8"
      ]
     },
     "execution_count": 35,
     "metadata": {},
     "output_type": "execute_result"
    }
   ],
   "source": [
    "def find_longest_word(text):\n",
    "#result is returning as an empty string    \n",
    "    result =''\n",
    "#stating that for the charcter in text if the length of the character is > than the length of the result, result = character\n",
    "#Therefore result(the empty string) is = to the character \n",
    "    for char in text:\n",
    "        if len(char) > len(result):\n",
    "            result = char\n",
    "            \n",
    "    return len(result)\n",
    "\n",
    "find_longest_word(['celtics', 'patriots', 'red sox', 'bruins'])"
   ]
  },
  {
   "cell_type": "markdown",
   "metadata": {},
   "source": [
    "Define a function ```filter_long_words()``` that takes a list of words and an integer ```i``` and returns a list of words that are longer than ```i```."
   ]
  },
  {
   "cell_type": "code",
   "execution_count": 6,
   "metadata": {},
   "outputs": [
    {
     "name": "stdout",
     "output_type": "stream",
     "text": [
      "['bruins']\n"
     ]
    }
   ],
   "source": [
    "#created function filter_long_word() set a parameter of word.\n",
    "#made an empty list called small_word that will be referenced later.\n",
    "#The result is to reference the i(item) and creat a if statement stating that if it is less than that \n",
    "#number to print.\n",
    "def filter_long_words(word):\n",
    "    small_word = []\n",
    "    result = 7\n",
    "    for i in word:\n",
    "        if len(i) < result:\n",
    "            small_word.append(i)\n",
    "            \n",
    "    print(small_word)\n",
    "    \n",
    "filter_long_words(['celtics', 'patriots', 'red sox', 'bruins'])"
   ]
  },
  {
   "cell_type": "markdown",
   "metadata": {},
   "source": [
    "Write a function ```char_freq()``` that takes a string and builds a frequency listing of the characters contained in it. Represent the frequency listing as a Python dictionary. Try it with something like ```charFreq(\"abbabcbdbabdbdbabababcbcbab\")```."
   ]
  },
  {
   "cell_type": "code",
   "execution_count": 15,
   "metadata": {},
   "outputs": [
    {
     "ename": "NameError",
     "evalue": "name 'letter' is not defined",
     "output_type": "error",
     "traceback": [
      "\u001b[0;31m---------------------------------------------------------------------------\u001b[0m",
      "\u001b[0;31mNameError\u001b[0m                                 Traceback (most recent call last)",
      "\u001b[0;32m<ipython-input-15-5148f6e34bf0>\u001b[0m in \u001b[0;36m<module>\u001b[0;34m\u001b[0m\n\u001b[1;32m     15\u001b[0m \u001b[0;34m\u001b[0m\u001b[0m\n\u001b[1;32m     16\u001b[0m \u001b[0;34m\u001b[0m\u001b[0m\n\u001b[0;32m---> 17\u001b[0;31m \u001b[0mchar_freq\u001b[0m\u001b[0;34m(\u001b[0m\u001b[0;34m\"abbabcbdbabdbdbabababcbcbab\"\u001b[0m\u001b[0;34m)\u001b[0m\u001b[0;34m\u001b[0m\u001b[0;34m\u001b[0m\u001b[0m\n\u001b[0m",
      "\u001b[0;32m<ipython-input-15-5148f6e34bf0>\u001b[0m in \u001b[0;36mchar_freq\u001b[0;34m(freq_string)\u001b[0m\n\u001b[1;32m     11\u001b[0m             \u001b[0mfrequency_list\u001b[0m\u001b[0;34m[\u001b[0m\u001b[0mletter\u001b[0m\u001b[0;34m]\u001b[0m \u001b[0;34m=\u001b[0m \u001b[0mfrequency_list\u001b[0m\u001b[0;34m[\u001b[0m\u001b[0mletter\u001b[0m\u001b[0;34m]\u001b[0m \u001b[0;34m+\u001b[0m \u001b[0;36m1\u001b[0m\u001b[0;34m\u001b[0m\u001b[0;34m\u001b[0m\u001b[0m\n\u001b[1;32m     12\u001b[0m         \u001b[0;32melse\u001b[0m\u001b[0;34m:\u001b[0m\u001b[0;34m\u001b[0m\u001b[0;34m\u001b[0m\u001b[0m\n\u001b[0;32m---> 13\u001b[0;31m             \u001b[0mfrequency_list\u001b[0m\u001b[0;34m[\u001b[0m\u001b[0mletter\u001b[0m\u001b[0;34m]\u001b[0m \u001b[0;34m=\u001b[0m \u001b[0;36m1\u001b[0m\u001b[0;34m\u001b[0m\u001b[0;34m\u001b[0m\u001b[0m\n\u001b[0m\u001b[1;32m     14\u001b[0m     \u001b[0;32mreturn\u001b[0m \u001b[0mfrequency_list\u001b[0m\u001b[0;34m\u001b[0m\u001b[0;34m\u001b[0m\u001b[0m\n\u001b[1;32m     15\u001b[0m \u001b[0;34m\u001b[0m\u001b[0m\n",
      "\u001b[0;31mNameError\u001b[0m: name 'letter' is not defined"
     ]
    }
   ],
   "source": [
    "#created a function called char_freq()\n",
    "#made a dictionary\n",
    "#stated that for an item in the frequency_string if item in the frequency_list count and add 1 for each time (should be giving me 7 a's)\n",
    "#not sure why doesn't work. \n",
    "\n",
    "def char_freq(freq_string):\n",
    "    \n",
    "    frequency_list = {}\n",
    "    \n",
    "    for i in freq_string:\n",
    "        if i in frequency_list:\n",
    "            frequency_list[letter] = frequency_list[letter] + 1\n",
    "        else: \n",
    "            frequency_list[letter] = 1\n",
    "    return frequency_list\n",
    "\n",
    "\n",
    "char_freq(\"abbabcbdbabdbdbabababcbcbab\")"
   ]
  },
  {
   "cell_type": "code",
   "execution_count": null,
   "metadata": {},
   "outputs": [],
   "source": []
  }
 ],
 "metadata": {
  "kernelspec": {
   "display_name": "Python 3",
   "language": "python",
   "name": "python3"
  },
  "language_info": {
   "codemirror_mode": {
    "name": "ipython",
    "version": 3
   },
   "file_extension": ".py",
   "mimetype": "text/x-python",
   "name": "python",
   "nbconvert_exporter": "python",
   "pygments_lexer": "ipython3",
   "version": "3.7.2"
  }
 },
 "nbformat": 4,
 "nbformat_minor": 2
}
